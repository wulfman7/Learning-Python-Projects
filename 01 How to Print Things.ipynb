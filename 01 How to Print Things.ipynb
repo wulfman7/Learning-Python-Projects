{
 "cells": [
  {
   "cell_type": "code",
   "id": "initial_id",
   "metadata": {
    "collapsed": true,
    "ExecuteTime": {
     "end_time": "2025-08-31T09:30:29.520635Z",
     "start_time": "2025-08-31T09:30:29.517618Z"
    }
   },
   "source": "print(\"\\033[1mHello, World! Time to learn different formatting in Python!\\033[0m\")",
   "outputs": [
    {
     "name": "stdout",
     "output_type": "stream",
     "text": [
      "\u001B[1mHello, World! Time to learn different formatting in Python!\u001B[0m\n"
     ]
    }
   ],
   "execution_count": 2
  },
  {
   "metadata": {
    "ExecuteTime": {
     "end_time": "2025-08-31T09:30:45.621068Z",
     "start_time": "2025-08-31T09:30:45.617062Z"
    }
   },
   "cell_type": "code",
   "source": "print(\"This creates\\na new line\")          # \\n creates a |New line|",
   "id": "d2e07e09479a93a7",
   "outputs": [
    {
     "name": "stdout",
     "output_type": "stream",
     "text": [
      "This creates\n",
      "a new line\n"
     ]
    }
   ],
   "execution_count": 3
  },
  {
   "metadata": {
    "ExecuteTime": {
     "end_time": "2025-08-31T09:30:54.142740Z",
     "start_time": "2025-08-31T09:30:54.139581Z"
    }
   },
   "cell_type": "code",
   "source": "print(\"Column 1\\tColumn 2\")      # \\t creates a |Tab space|",
   "id": "8b3f904ea89837e9",
   "outputs": [
    {
     "name": "stdout",
     "output_type": "stream",
     "text": [
      "Column 1\tColumn 2\n"
     ]
    }
   ],
   "execution_count": 5
  },
  {
   "metadata": {
    "ExecuteTime": {
     "end_time": "2025-08-31T09:30:59.720668Z",
     "start_time": "2025-08-31T09:30:59.717100Z"
    }
   },
   "cell_type": "code",
   "source": "print(\"The last character was just deletedd\\b\")            # \\b creates a |Backspace (deletes last character)|",
   "id": "7c13ef75d22c260e",
   "outputs": [
    {
     "name": "stdout",
     "output_type": "stream",
     "text": [
      "The last character was just deleted\n"
     ]
    }
   ],
   "execution_count": 6
  },
  {
   "metadata": {
    "ExecuteTime": {
     "end_time": "2025-08-31T09:31:05.557356Z",
     "start_time": "2025-08-31T09:31:05.552988Z"
    }
   },
   "cell_type": "code",
   "source": "print(\"This is a quote: \\\"To be or not to be\\\"\")    # \\\" \\\" creates an |Escaped double quote|",
   "id": "c2c4bbf3526113e4",
   "outputs": [
    {
     "name": "stdout",
     "output_type": "stream",
     "text": [
      "This is a quote: \"To be or not to be\"\n"
     ]
    }
   ],
   "execution_count": 7
  },
  {
   "metadata": {
    "ExecuteTime": {
     "end_time": "2025-08-31T09:31:16.287578Z",
     "start_time": "2025-08-31T09:31:16.283080Z"
    }
   },
   "cell_type": "code",
   "source": "print(\"\\\\\")                     # \\\\ creates a |Backslash|",
   "id": "10587d7a01a4aede",
   "outputs": [
    {
     "name": "stdout",
     "output_type": "stream",
     "text": [
      "\\\n"
     ]
    }
   ],
   "execution_count": 8
  },
  {
   "metadata": {
    "ExecuteTime": {
     "end_time": "2025-08-31T09:31:28.364155Z",
     "start_time": "2025-08-31T09:31:28.360037Z"
    }
   },
   "cell_type": "code",
   "source": "print(\"Hello\", \"to those\", \"here\" , \"and\" , \"everywhere\", sep=\"---\")    # sep=\"(insert here)\" creates a |replacement for commas|",
   "id": "8ac0fa2b5482be34",
   "outputs": [
    {
     "name": "stdout",
     "output_type": "stream",
     "text": [
      "Hello---to those---here---and---everywhere\n"
     ]
    }
   ],
   "execution_count": 9
  },
  {
   "metadata": {
    "ExecuteTime": {
     "end_time": "2025-08-31T09:31:37.104900Z",
     "start_time": "2025-08-31T09:31:37.100647Z"
    }
   },
   "cell_type": "code",
   "source": "print(\"\\n\\n\\n\")",
   "id": "a74daa2d27d39bd8",
   "outputs": [
    {
     "name": "stdout",
     "output_type": "stream",
     "text": [
      "\n",
      "\n",
      "\n",
      "\n"
     ]
    }
   ],
   "execution_count": 10
  },
  {
   "metadata": {
    "ExecuteTime": {
     "end_time": "2025-08-31T09:31:48.338669Z",
     "start_time": "2025-08-31T09:31:48.334414Z"
    }
   },
   "cell_type": "code",
   "source": [
    "# \\033[ starts an ANSI code    -   Enclose in (\"\\033[__m   insert text here    \\033[0m\")\n",
    "# 1m = bold\n",
    "# 4m = underline\n",
    "# 30–37m = text colors\n",
    "# 0m resets formatting\n",
    "\n",
    "print(\"\\033[1mBold Text\\033[0m\")\n",
    "print(\"\\033[4mUnderlined Text\\033[0m\")\n",
    "print(\"\\033[31mRed Text\\033[0m\")\n",
    "print(\"\\033[32mGreen Text\\033[0m\")\n",
    "print(\"\\033[33mYellow Text\\033[0m\")\n",
    "print(\"\\033[34mBlue Text\\033[0m\")"
   ],
   "id": "33cb5f223f3989b5",
   "outputs": [
    {
     "name": "stdout",
     "output_type": "stream",
     "text": [
      "\u001B[1mBold Text\u001B[0m\n",
      "\u001B[4mUnderlined Text\u001B[0m\n",
      "\u001B[31mRed Text\u001B[0m\n",
      "\u001B[32mGreen Text\u001B[0m\n",
      "\u001B[33mYellow Text\u001B[0m\n",
      "\u001B[34mBlue Text\u001B[0m\n"
     ]
    }
   ],
   "execution_count": 11
  },
  {
   "metadata": {
    "ExecuteTime": {
     "end_time": "2025-08-31T09:32:13.910114Z",
     "start_time": "2025-08-31T09:32:13.906251Z"
    }
   },
   "cell_type": "code",
   "source": "print()",
   "id": "bfb1577841aff1b7",
   "outputs": [
    {
     "name": "stdout",
     "output_type": "stream",
     "text": [
      "\n"
     ]
    }
   ],
   "execution_count": 12
  },
  {
   "metadata": {
    "ExecuteTime": {
     "end_time": "2025-08-31T09:32:21.482962Z",
     "start_time": "2025-08-31T09:32:21.479513Z"
    }
   },
   "cell_type": "code",
   "source": [
    "print(\"\"\"This is\n",
    "a block\n",
    "of text\"\"\")                     # By adding an extra \" makes for |Multiline|"
   ],
   "id": "66ca231cbb6e22a4",
   "outputs": [
    {
     "name": "stdout",
     "output_type": "stream",
     "text": [
      "This is\n",
      "a block\n",
      "of text\n"
     ]
    }
   ],
   "execution_count": 13
  },
  {
   "metadata": {
    "ExecuteTime": {
     "end_time": "2025-08-31T09:32:47.447490Z",
     "start_time": "2025-08-31T09:32:47.443547Z"
    }
   },
   "cell_type": "code",
   "source": "print()",
   "id": "f50f9f32c020c8d9",
   "outputs": [
    {
     "name": "stdout",
     "output_type": "stream",
     "text": [
      "\n"
     ]
    }
   ],
   "execution_count": 14
  },
  {
   "metadata": {
    "ExecuteTime": {
     "end_time": "2025-08-31T09:32:59.162893Z",
     "start_time": "2025-08-31T09:32:59.159330Z"
    }
   },
   "cell_type": "code",
   "source": [
    "name = \"Alice\"                  # Define variable \"name\"\n",
    "age = 25                        # Define variable \"age\"\n",
    "print(f\"My name is {name} and I am {age} years old\")        # f before \" allows for |insertion of variables in print|\n",
    "print(f\"{name} was looking forward to her {age}th birthday\")"
   ],
   "id": "242b595c72ac5cba",
   "outputs": [
    {
     "name": "stdout",
     "output_type": "stream",
     "text": [
      "My name is Alice and I am 25 years old\n",
      "Alice was looking forward to her 25th birthday\n"
     ]
    }
   ],
   "execution_count": 15
  },
  {
   "metadata": {
    "ExecuteTime": {
     "end_time": "2025-08-31T09:33:11.751838Z",
     "start_time": "2025-08-31T09:33:11.747839Z"
    }
   },
   "cell_type": "code",
   "source": "print()                         # print() creates a |simple new line|",
   "id": "fbe61e47b95b22b8",
   "outputs": [
    {
     "name": "stdout",
     "output_type": "stream",
     "text": [
      "\n"
     ]
    }
   ],
   "execution_count": 16
  },
  {
   "metadata": {},
   "cell_type": "code",
   "outputs": [],
   "execution_count": null,
   "source": "",
   "id": "347d24a2a45e8fda"
  }
 ],
 "metadata": {
  "kernelspec": {
   "display_name": "Python 3",
   "language": "python",
   "name": "python3"
  },
  "language_info": {
   "codemirror_mode": {
    "name": "ipython",
    "version": 2
   },
   "file_extension": ".py",
   "mimetype": "text/x-python",
   "name": "python",
   "nbconvert_exporter": "python",
   "pygments_lexer": "ipython2",
   "version": "2.7.6"
  }
 },
 "nbformat": 4,
 "nbformat_minor": 5
}
