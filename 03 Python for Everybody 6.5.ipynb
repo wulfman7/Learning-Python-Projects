{
 "cells": [
  {
   "cell_type": "code",
   "id": "initial_id",
   "metadata": {
    "collapsed": true,
    "ExecuteTime": {
     "end_time": "2025-09-06T08:35:47.252941Z",
     "start_time": "2025-09-06T08:35:47.249109Z"
    }
   },
   "source": [
    "print(\"\\033[34m6.5 \\nWrite code using find() and string slicing (see section 6.10) \\nto extract the number at the end of the line below. \\nConvert the extracted value to a floating point number \\nand print it out.\\n\\n\\033[1m\")\n",
    "\n",
    "print(\"\\033[1m\\033[4m\\033[32mDesired Output\\033[0m\\n0.8475\")"
   ],
   "outputs": [
    {
     "name": "stdout",
     "output_type": "stream",
     "text": [
      "\u001B[34m6.5 \n",
      "Write code using find() and string slicing (see section 6.10) \n",
      "to extract the number at the end of the line below. \n",
      "Convert the extracted value to a floating point number \n",
      "and print it out.\n",
      "\n",
      "\u001B[1m\n",
      "\u001B[1m\u001B[4m\u001B[32mDesired Output\u001B[0m\n",
      "0.8475\n"
     ]
    }
   ],
   "execution_count": 1
  },
  {
   "metadata": {
    "ExecuteTime": {
     "end_time": "2025-09-06T08:36:02.839878Z",
     "start_time": "2025-09-06T08:36:02.835864Z"
    }
   },
   "cell_type": "code",
   "source": [
    "text = \"X-DSPAM-Confidence:    0.8475\"\n",
    "\n",
    "pos = text.find(\":\")\n",
    "\n",
    "num = text[pos+1:]\n",
    "\n",
    "print(float(num))"
   ],
   "id": "79300cb0d38da17f",
   "outputs": [
    {
     "name": "stdout",
     "output_type": "stream",
     "text": [
      "0.8475\n"
     ]
    }
   ],
   "execution_count": 2
  },
  {
   "metadata": {},
   "cell_type": "code",
   "outputs": [],
   "execution_count": null,
   "source": "",
   "id": "dd3875a1a197a8bc"
  }
 ],
 "metadata": {
  "kernelspec": {
   "display_name": "Python 3",
   "language": "python",
   "name": "python3"
  },
  "language_info": {
   "codemirror_mode": {
    "name": "ipython",
    "version": 2
   },
   "file_extension": ".py",
   "mimetype": "text/x-python",
   "name": "python",
   "nbconvert_exporter": "python",
   "pygments_lexer": "ipython2",
   "version": "2.7.6"
  }
 },
 "nbformat": 4,
 "nbformat_minor": 5
}
