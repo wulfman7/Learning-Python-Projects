{
 "cells": [
  {
   "cell_type": "code",
   "id": "initial_id",
   "metadata": {
    "collapsed": true,
    "ExecuteTime": {
     "end_time": "2025-09-01T11:07:00.936945Z",
     "start_time": "2025-09-01T11:07:00.932955Z"
    }
   },
   "source": [
    "print(\"\\033[34m5.2 \\nWrite a program that repeatedly prompts a user for integer numbers until the user enters 'done'. \\n\\nOnce 'done' is entered, print out the largest and smallest of the numbers. \\n\\nIf the user enters anything other than a valid number catch it with a try/except and put out an appropriate message and ignore the number. Enter\\n\\n7, 2, bob, 10, and 4 and match the output below.\\n\\n\\033[1m\")\n",
    "\n",
    "print(\"\\033[1m\\033[4m\\033[32mDesired Output\\033[0m\\nInvalid input\\nMaximum is 10\\nMinimum is 2\")"
   ],
   "outputs": [
    {
     "name": "stdout",
     "output_type": "stream",
     "text": [
      "\u001B[34m5.2 \n",
      "Write a program that repeatedly prompts a user for integer numbers until the user enters 'done'. \n",
      "\n",
      "Once 'done' is entered, print out the largest and smallest of the numbers. \n",
      "\n",
      "If the user enters anything other than a valid number catch it with a try/except and put out an appropriate message and ignore the number. Enter\n",
      "\n",
      "7, 2, bob, 10, and 4 and match the output below.\n",
      "\n",
      "\u001B[1m\n",
      "\u001B[1m\u001B[4m\u001B[32mDesired Output\u001B[0m\n",
      "Invalid input\n",
      "Maximum is 10\n",
      "Minimum is 2\n"
     ]
    }
   ],
   "execution_count": 38
  },
  {
   "metadata": {
    "ExecuteTime": {
     "end_time": "2025-09-01T11:07:32.571718Z",
     "start_time": "2025-09-01T11:07:17.833119Z"
    }
   },
   "cell_type": "code",
   "source": [
    "largest = None\n",
    "smallest = None\n",
    "\n",
    "while True:\n",
    "    num = input(\"Enter a number: \")\n",
    "    if num == \"done\" :\n",
    "        break\n",
    "    try:\n",
    "        num = int(num)\n",
    "    except:\n",
    "        print(\"Invalid input\")\n",
    "        continue\n",
    "    if largest is None or num > largest:\n",
    "        largest = num\n",
    "    if smallest is None or num < smallest:\n",
    "        smallest = num\n",
    "\n",
    "print(\"Maximum is\", largest)\n",
    "print(\"Minimum is\", smallest)"
   ],
   "id": "e9d39b63c17b0809",
   "outputs": [
    {
     "name": "stdout",
     "output_type": "stream",
     "text": [
      "Invalid input\n",
      "Maximum is 10\n",
      "Minimum is 2\n"
     ]
    }
   ],
   "execution_count": 39
  },
  {
   "metadata": {},
   "cell_type": "code",
   "outputs": [],
   "execution_count": null,
   "source": "",
   "id": "3aaafea456f13da9"
  }
 ],
 "metadata": {
  "kernelspec": {
   "display_name": "Python 3",
   "language": "python",
   "name": "python3"
  },
  "language_info": {
   "codemirror_mode": {
    "name": "ipython",
    "version": 2
   },
   "file_extension": ".py",
   "mimetype": "text/x-python",
   "name": "python",
   "nbconvert_exporter": "python",
   "pygments_lexer": "ipython2",
   "version": "2.7.6"
  }
 },
 "nbformat": 4,
 "nbformat_minor": 5
}
