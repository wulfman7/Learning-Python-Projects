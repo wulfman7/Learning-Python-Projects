{
 "cells": [
  {
   "cell_type": "code",
   "id": "initial_id",
   "metadata": {
    "collapsed": true,
    "ExecuteTime": {
     "end_time": "2025-09-06T12:38:18.765103Z",
     "start_time": "2025-09-06T12:38:18.761290Z"
    }
   },
   "source": [
    "print(\"\\033[34m7.1 \\nWrite a program that prompts for a file name, \\nthen opens that file and reads through the file, \\nand print the contents of the file in upper case. \\nUse the file words.txt to produce the output below. \\nYou can download the sample data at http://www.py4e.com/code3/words.txt \\n\\n\\033[1m\")\n",
    "\n",
    "print(\"\\033[1m\\033[4m\\033[32mDesired Output\\033[0m\\nWRITING PROGRAMS OR PROGRAMMING IS A VERY CREATIVE \\nAND REWARDING ACTIVITY  YOU CAN WRITE PROGRAMS FOR \\nMANY REASONS RANGING FROM MAKING YOUR LIVING TO SOLVING \\nA DIFFICULT DATA ANALYSIS PROBLEM TO HAVING FUN TO HELPING \\nSOMEONE ELSE SOLVE A PROBLEM  THIS BOOK ASSUMES THAT \\n{\\\\EM EVERYONE} NEEDS TO KNOW HOW TO PROGRAM AND THAT ONCE \\nYOU KNOW HOW TO PROGRAM, YOU WILL FIGURE OUT WHAT YOU WANT \\nTO DO WITH YOUR NEWFOUND SKILLS \\n\\nWE ARE SURROUNDED IN OUR DAILY LIVES WITH COMPUTERS RANGING \\nFROM LAPTOPS TO CELL PHONES  WE CAN THINK OF THESE COMPUTERS \\nAS OUR PERSONAL ASSISTANTS WHO CAN TAKE CARE OF MANY THINGS \\nON OUR BEHALF  THE HARDWARE IN OUR CURRENT-DAY COMPUTERS\\nIS ESSENTIALLY BUILT TO CONTINUOUSLY AS US THE QUESTION \\nWHAT WOULD YOU LIKE ME TO DO NEXT \\n\\nOUR COMPUTERS ARE FAST AND HAVE VASTS AMOUNTS OF MEMORY AND \\nCOULD BE VERY HELPFUL TO US IF WE ONLY KNEW THE LANGUAGE TO \\nSPEAK TO EXPLAIN TO THE COMPUTER WHAT WE WOULD LIKE IT TO \\nDO NEXT IF WE KNEW THIS LANGUAGE WE COULD TELL THE \\nCOMPUTER TO DO TASKS ON OUR BEHALF THAT WERE REPTITIVE \\nINTERESTINGLY, THE KINDS OF THINGS COMPUTERS CAN DO BEST \\nARE OFTEN THE KINDS OF THINGS THAT WE HUMANS FIND BORING \\nAND MIND-NUMBING\")"
   ],
   "outputs": [
    {
     "name": "stdout",
     "output_type": "stream",
     "text": [
      "\u001B[34m7.1 \n",
      "Write a program that prompts for a file name, \n",
      "then opens that file and reads through the file, \n",
      "and print the contents of the file in upper case. \n",
      "Use the file words.txt to produce the output below. \n",
      "You can download the sample data at http://www.py4e.com/code3/words.txt \n",
      "\n",
      "\u001B[1m\n",
      "\u001B[1m\u001B[4m\u001B[32mDesired Output\u001B[0m\n",
      "WRITING PROGRAMS OR PROGRAMMING IS A VERY CREATIVE \n",
      "AND REWARDING ACTIVITY  YOU CAN WRITE PROGRAMS FOR \n",
      "MANY REASONS RANGING FROM MAKING YOUR LIVING TO SOLVING \n",
      "A DIFFICULT DATA ANALYSIS PROBLEM TO HAVING FUN TO HELPING \n",
      "SOMEONE ELSE SOLVE A PROBLEM  THIS BOOK ASSUMES THAT \n",
      "{\\EM EVERYONE} NEEDS TO KNOW HOW TO PROGRAM AND THAT ONCE \n",
      "YOU KNOW HOW TO PROGRAM, YOU WILL FIGURE OUT WHAT YOU WANT \n",
      "TO DO WITH YOUR NEWFOUND SKILLS \n",
      "\n",
      "WE ARE SURROUNDED IN OUR DAILY LIVES WITH COMPUTERS RANGING \n",
      "FROM LAPTOPS TO CELL PHONES  WE CAN THINK OF THESE COMPUTERS \n",
      "AS OUR PERSONAL ASSISTANTS WHO CAN TAKE CARE OF MANY THINGS \n",
      "ON OUR BEHALF  THE HARDWARE IN OUR CURRENT-DAY COMPUTERS\n",
      "IS ESSENTIALLY BUILT TO CONTINUOUSLY AS US THE QUESTION \n",
      "WHAT WOULD YOU LIKE ME TO DO NEXT \n",
      "\n",
      "OUR COMPUTERS ARE FAST AND HAVE VASTS AMOUNTS OF MEMORY AND \n",
      "COULD BE VERY HELPFUL TO US IF WE ONLY KNEW THE LANGUAGE TO \n",
      "SPEAK TO EXPLAIN TO THE COMPUTER WHAT WE WOULD LIKE IT TO \n",
      "DO NEXT IF WE KNEW THIS LANGUAGE WE COULD TELL THE \n",
      "COMPUTER TO DO TASKS ON OUR BEHALF THAT WERE REPTITIVE \n",
      "INTERESTINGLY, THE KINDS OF THINGS COMPUTERS CAN DO BEST \n",
      "ARE OFTEN THE KINDS OF THINGS THAT WE HUMANS FIND BORING \n",
      "AND MIND-NUMBING\n"
     ]
    }
   ],
   "execution_count": 15
  },
  {
   "metadata": {
    "ExecuteTime": {
     "end_time": "2025-09-06T12:39:52.716229Z",
     "start_time": "2025-09-06T12:39:48.354708Z"
    }
   },
   "cell_type": "code",
   "source": [
    "# Use words.txt as the file name\n",
    "fname = input(\"Enter file name: \")\n",
    "fh = open(fname)\n",
    "for xfile in fh:\n",
    "    print(xfile.upper().rstrip())"
   ],
   "id": "a5b6440ba08d8afa",
   "outputs": [
    {
     "name": "stdout",
     "output_type": "stream",
     "text": [
      "WRITING PROGRAMS OR PROGRAMMING IS A VERY CREATIVE\n",
      "AND REWARDING ACTIVITY  YOU CAN WRITE PROGRAMS FOR\n",
      "MANY REASONS RANGING FROM MAKING YOUR LIVING TO SOLVING\n",
      "A DIFFICULT DATA ANALYSIS PROBLEM TO HAVING FUN TO HELPING\n",
      "SOMEONE ELSE SOLVE A PROBLEM  THIS BOOK ASSUMES THAT\n",
      "{\\EM EVERYONE} NEEDS TO KNOW HOW TO PROGRAM AND THAT ONCE\n",
      "YOU KNOW HOW TO PROGRAM, YOU WILL FIGURE OUT WHAT YOU WANT\n",
      "TO DO WITH YOUR NEWFOUND SKILLS\n",
      "\n",
      "WE ARE SURROUNDED IN OUR DAILY LIVES WITH COMPUTERS RANGING\n",
      "FROM LAPTOPS TO CELL PHONES  WE CAN THINK OF THESE COMPUTERS\n",
      "AS OUR PERSONAL ASSISTANTS WHO CAN TAKE CARE OF MANY THINGS\n",
      "ON OUR BEHALF  THE HARDWARE IN OUR CURRENT-DAY COMPUTERS\n",
      "IS ESSENTIALLY BUILT TO CONTINUOUSLY ASK US THE QUESTION\n",
      "WHAT WOULD YOU LIKE ME TO DO NEXT\n",
      "\n",
      "OUR COMPUTERS ARE FAST AND HAVE VASTS AMOUNTS OF MEMORY AND\n",
      "COULD BE VERY HELPFUL TO US IF WE ONLY KNEW THE LANGUAGE TO\n",
      "SPEAK TO EXPLAIN TO THE COMPUTER WHAT WE WOULD LIKE IT TO\n",
      "DO NEXT IF WE KNEW THIS LANGUAGE WE COULD TELL THE\n",
      "COMPUTER TO DO TASKS ON OUR BEHALF THAT WERE REPTITIVE\n",
      "INTERESTINGLY, THE KINDS OF THINGS COMPUTERS CAN DO BEST\n",
      "ARE OFTEN THE KINDS OF THINGS THAT WE HUMANS FIND BORING\n",
      "AND MIND-NUMBING\n"
     ]
    }
   ],
   "execution_count": 17
  },
  {
   "metadata": {},
   "cell_type": "code",
   "outputs": [],
   "execution_count": null,
   "source": "",
   "id": "a74d2319659827ff"
  }
 ],
 "metadata": {
  "kernelspec": {
   "display_name": "Python 3",
   "language": "python",
   "name": "python3"
  },
  "language_info": {
   "codemirror_mode": {
    "name": "ipython",
    "version": 2
   },
   "file_extension": ".py",
   "mimetype": "text/x-python",
   "name": "python",
   "nbconvert_exporter": "python",
   "pygments_lexer": "ipython2",
   "version": "2.7.6"
  }
 },
 "nbformat": 4,
 "nbformat_minor": 5
}
